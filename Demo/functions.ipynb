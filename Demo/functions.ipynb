{
 "cells": [
  {
   "cell_type": "code",
   "execution_count": null,
   "metadata": {},
   "outputs": [],
   "source": [
    "list=[]\n",
    "for i in range(5):\n",
    "    x=int(input(\"\"))\n",
    "    list.append(x)\n",
    "print(list) \n",
    "\n",
    "\n",
    "def even_list(l):\n",
    "    sum=0\n",
    "    for i in list:\n",
    "        if(i%2==0):\n",
    "            sum+=i\n",
    "    print(sum)\n",
    "\n",
    "even_list(list)\n",
    "            "
   ]
  },
  {
   "cell_type": "code",
   "execution_count": 25,
   "metadata": {},
   "outputs": [
    {
     "name": "stdout",
     "output_type": "stream",
     "text": [
      "anna is palindrome\n"
     ]
    }
   ],
   "source": [
    "string=input(\"\")\n",
    "\n",
    "def palindrome(str):\n",
    "    if(str==str[::-1]):\n",
    "        print(str,\"is palindrome\")\n",
    "    else:\n",
    "        print(str,\"is not palindrome\")\n",
    "palindrome(string)"
   ]
  },
  {
   "cell_type": "code",
   "execution_count": 26,
   "metadata": {},
   "outputs": [
    {
     "ename": "ValueError",
     "evalue": "invalid literal for int() with base 10: 'man'",
     "output_type": "error",
     "traceback": [
      "\u001b[1;31m---------------------------------------------------------------------------\u001b[0m",
      "\u001b[1;31mValueError\u001b[0m                                Traceback (most recent call last)",
      "Cell \u001b[1;32mIn[26], line 3\u001b[0m\n\u001b[0;32m      1\u001b[0m \u001b[39mlist\u001b[39m\u001b[39m=\u001b[39m[]\n\u001b[0;32m      2\u001b[0m \u001b[39mfor\u001b[39;00m i \u001b[39min\u001b[39;00m \u001b[39mrange\u001b[39m(\u001b[39m5\u001b[39m):\n\u001b[1;32m----> 3\u001b[0m     x\u001b[39m=\u001b[39m\u001b[39mint\u001b[39;49m(\u001b[39minput\u001b[39;49m(\u001b[39m\"\u001b[39;49m\u001b[39m\"\u001b[39;49m))\n\u001b[0;32m      4\u001b[0m     \u001b[39mlist\u001b[39m\u001b[39m.\u001b[39mappend(x)\n\u001b[0;32m      5\u001b[0m \u001b[39mprint\u001b[39m(\u001b[39mlist\u001b[39m)\n",
      "\u001b[1;31mValueError\u001b[0m: invalid literal for int() with base 10: 'man'"
     ]
    }
   ],
   "source": [
    "list=[]\n",
    "for i in range(5):\n",
    "    x=int(input(\"\"))\n",
    "    list.append(x)\n",
    "print(list)\n",
    "\n",
    "def max_diff(l):\n",
    "    max_no=max(l)\n",
    "    min_no=min(l)\n",
    "    max_diff=max_no-min_no\n",
    "    print(max_diff)    \n",
    "max_diff(list)"
   ]
  },
  {
   "cell_type": "code",
   "execution_count": 31,
   "metadata": {},
   "outputs": [
    {
     "name": "stdout",
     "output_type": "stream",
     "text": [
      "['ass', 'ased', 'dased', 'dsa', 'aaa']\n",
      "['ass', 'ased', 'aaa']\n"
     ]
    }
   ],
   "source": [
    "list=[]\n",
    "for i in range(5):\n",
    "    x=input(\"\")\n",
    "    list.append(x)\n",
    "print(list)\n",
    "\n",
    "def astrl(l):\n",
    "    list0=[]\n",
    "    for char in list:\n",
    "        if char[0]==\"a\":\n",
    "            list0.append(char)\n",
    "    print(list0)\n",
    "astrl(list) "
   ]
  },
  {
   "cell_type": "code",
   "execution_count": null,
   "metadata": {},
   "outputs": [],
   "source": []
  }
 ],
 "metadata": {
  "kernelspec": {
   "display_name": "Python 3",
   "language": "python",
   "name": "python3"
  },
  "language_info": {
   "codemirror_mode": {
    "name": "ipython",
    "version": 3
   },
   "file_extension": ".py",
   "mimetype": "text/x-python",
   "name": "python",
   "nbconvert_exporter": "python",
   "pygments_lexer": "ipython3",
   "version": "3.10.10"
  },
  "orig_nbformat": 4
 },
 "nbformat": 4,
 "nbformat_minor": 2
}
