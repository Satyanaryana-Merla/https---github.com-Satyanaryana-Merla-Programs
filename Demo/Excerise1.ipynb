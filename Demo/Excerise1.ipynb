{
 "cells": [
  {
   "attachments": {},
   "cell_type": "markdown",
   "metadata": {},
   "source": [
    "write a programe to check weather the preson eligible for vote are not."
   ]
  },
  {
   "cell_type": "code",
   "execution_count": 9,
   "metadata": {},
   "outputs": [
    {
     "name": "stdout",
     "output_type": "stream",
     "text": [
      "Person is eligible for vote\n"
     ]
    }
   ],
   "source": [
    "age = eval(input(\"Emter the age of the person\"))\n",
    "print(\"Person is eligible for vote\") if age >= 18 else print(\"Person is not eligible for vote\")"
   ]
  },
  {
   "attachments": {},
   "cell_type": "markdown",
   "metadata": {},
   "source": [
    "Write a program to check weather a number entered by user is even number or odd."
   ]
  },
  {
   "cell_type": "code",
   "execution_count": 35,
   "metadata": {},
   "outputs": [
    {
     "name": "stdout",
     "output_type": "stream",
     "text": [
      "the given number is Even number\n"
     ]
    }
   ],
   "source": [
    "number = eval(input(\"Enter a number\"))\n",
    "print(\"the given number is Even number\") if number %2 == 0 else print(\"the given number is  odd number\")"
   ]
  },
  {
   "attachments": {},
   "cell_type": "markdown",
   "metadata": {},
   "source": [
    "write a program to accept a number from 1 to 7 and display the name of the day like 1 for ssunday, 2 for monday and so on."
   ]
  },
  {
   "cell_type": "code",
   "execution_count": 36,
   "metadata": {},
   "outputs": [
    {
     "name": "stdout",
     "output_type": "stream",
     "text": [
      "thursday\n"
     ]
    }
   ],
   "source": [
    "num = int(input(\"enter number in between 1 to 7\"))\n",
    "if num == 1:print(\"sunday\")\n",
    "elif num == 2:print(\"Monday\")\n",
    "elif num == 3:print(\"Tuesday\")\n",
    "elif num == 4:print(\"wednesday\")\n",
    "elif num == 5:print(\"thursday\")\n",
    "elif num == 6:print(\"friday\")\n",
    "elif num == 7:print(\"saturday\")\n",
    "else:print(\"Please enter correct number\")"
   ]
  },
  {
   "attachments": {},
   "cell_type": "markdown",
   "metadata": {},
   "source": [
    "Write a program to check a number is 3 digited number or not."
   ]
  },
  {
   "cell_type": "code",
   "execution_count": 24,
   "metadata": {},
   "outputs": [
    {
     "name": "stdout",
     "output_type": "stream",
     "text": [
      "The given number is three digit number\n"
     ]
    }
   ],
   "source": [
    "try:\n",
    "    number = int(input(\"Please enter a three digit number\"))\n",
    "    digit = str(number)\n",
    "    if len(digit) == 3:print(\"The given number is three digit number\")\n",
    "    else:print(\"The given number is not a three digit number\")\n",
    "except ValueError:\n",
    "    print(\"Please enter three digit number\")\n",
    "        "
   ]
  },
  {
   "attachments": {},
   "cell_type": "markdown",
   "metadata": {},
   "source": [
    "write a program to check wheater a person seriour citizen or not (example take a input(\"enter a age: \"))."
   ]
  },
  {
   "cell_type": "code",
   "execution_count": 31,
   "metadata": {},
   "outputs": [
    {
     "name": "stdout",
     "output_type": "stream",
     "text": [
      "senior citizen\n"
     ]
    }
   ],
   "source": [
    "age = eval(input(\"Emter the agr of the person\"))\n",
    "print(\"senior citizen\") if age > 60 else print(\"Not senior citizen\")"
   ]
  },
  {
   "attachments": {},
   "cell_type": "markdown",
   "metadata": {},
   "source": [
    " write a programe to find the lowest number out of two numbers excepted from user."
   ]
  },
  {
   "cell_type": "code",
   "execution_count": 34,
   "metadata": {},
   "outputs": [
    {
     "name": "stdout",
     "output_type": "stream",
     "text": [
      "5 is loweat number\n"
     ]
    }
   ],
   "source": [
    "a,b = [int(input(\"\")),int(input(\"\"))]\n",
    "print(\"%d is loweat number\"%(a))  if a<b else print(\" %d is lowest number\" %(b))"
   ]
  },
  {
   "attachments": {},
   "cell_type": "markdown",
   "metadata": {},
   "source": [
    " Write a program to check a number is positive or not."
   ]
  },
  {
   "cell_type": "code",
   "execution_count": 68,
   "metadata": {},
   "outputs": [
    {
     "name": "stdout",
     "output_type": "stream",
     "text": [
      "+ve number\n"
     ]
    }
   ],
   "source": [
    "try :\n",
    "    number = eval(input(\"Enter a number : \"))\n",
    "    print(\"+ve number\") if number > 0 else print(\"-ve number\")\n",
    "except ValueError:\n",
    "    print(\"Please inter integers decimal numbers\")"
   ]
  },
  {
   "attachments": {},
   "cell_type": "markdown",
   "metadata": {},
   "source": [
    " write a program to wheater a number (accepted from user) is divisible by 2 and 3 both."
   ]
  },
  {
   "cell_type": "code",
   "execution_count": 30,
   "metadata": {},
   "outputs": [
    {
     "name": "stdout",
     "output_type": "stream",
     "text": [
      "6 is Divisible by 2 and 3 \n"
     ]
    }
   ],
   "source": [
    "ab = int(input(\"Enter a number\"))\n",
    "print(\"%d is Divisible by 2 and 3 \" %(ab)) if ab % 2 == 0 and ab %3 == 0 else print(\"%d is not divisible by 2 and 3 \" %(ab))"
   ]
  },
  {
   "attachments": {},
   "cell_type": "markdown",
   "metadata": {},
   "source": [
    "write a program to find the largest number out of three input number excepted by user."
   ]
  },
  {
   "cell_type": "code",
   "execution_count": 26,
   "metadata": {},
   "outputs": [
    {
     "name": "stdout",
     "output_type": "stream",
     "text": [
      "3 is largest number \n"
     ]
    }
   ],
   "source": [
    "a,b,c = [int(input(\"\")),int(input(\"\")),int(input(\"\"))]\n",
    "if a>b : print(\"%d is largest number\" %(a))\n",
    "elif b>c : print(\"%d is largest number\" %(b))\n",
    "else: print(\"%d is largest number \" %(c))"
   ]
  },
  {
   "attachments": {},
   "cell_type": "markdown",
   "metadata": {
    "notebookRunGroups": {
     "groupValue": "2"
    }
   },
   "source": [
    "A school has following rules for grading system:\n",
    "\ta. Below 25 - F\n",
    "\tb. 25 to 45 - E\n",
    "\tc. 45 to 50 - D\n",
    "\td. 50 to 60 - C\n",
    "\te. 60 to 80 - B\n",
    "\tf. Above 80 - A\n",
    "\tAsk user to enter marks and print the corresponding grade."
   ]
  },
  {
   "cell_type": "code",
   "execution_count": 41,
   "metadata": {},
   "outputs": [
    {
     "name": "stdout",
     "output_type": "stream",
     "text": [
      "C\n"
     ]
    }
   ],
   "source": [
    "marks = int(input(\"Enter marks of student \"))\n",
    "if marks<25:print(\"F\")\n",
    "elif marks<=45:print(\"E\")\n",
    "elif marks<=50:print(\"D\")\n",
    "elif marks<=60:print(\"C\")\n",
    "elif marks<=80:print(\"B\")\n",
    "else:print(\"A\")"
   ]
  },
  {
   "attachments": {},
   "cell_type": "markdown",
   "metadata": {},
   "source": [
    "A student will not be allowed to sit in exam if his/her attendence is less than 75%.\n",
    "    Take following input from user\n",
    "        Number of classes held\n",
    "        Number of classes attended.\n",
    "        And print\n",
    "        percentage of class attended\n",
    "        Is student is allowed to sit in exam or not."
   ]
  },
  {
   "cell_type": "code",
   "execution_count": 1,
   "metadata": {},
   "outputs": [
    {
     "name": "stdout",
     "output_type": "stream",
     "text": [
      "You are not allowed to sit in exam\n"
     ]
    }
   ],
   "source": [
    "number_class_held = int(input(\"Enter number of classes are Held\"))\n",
    "number_class_attend = int(input(\"Enter number of classes are Attend\"))\n",
    "attendence_percentage = number_class_attend/float(number_class_held)*100\n",
    "if attendence_percentage < 75: print(\"You are not allowed to sit in exam\")\n",
    "else:print(\"You are allowed to sit in exam\")\n"
   ]
  }
 ],
 "metadata": {
  "kernelspec": {
   "display_name": "Python 3",
   "language": "python",
   "name": "python3"
  },
  "language_info": {
   "codemirror_mode": {
    "name": "ipython",
    "version": 3
   },
   "file_extension": ".py",
   "mimetype": "text/x-python",
   "name": "python",
   "nbconvert_exporter": "python",
   "pygments_lexer": "ipython3",
   "version": "3.10.10"
  },
  "orig_nbformat": 4
 },
 "nbformat": 4,
 "nbformat_minor": 2
}
