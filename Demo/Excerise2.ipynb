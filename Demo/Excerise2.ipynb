{
 "cells": [
  {
   "cell_type": "markdown",
   "metadata": {},
   "source": [
    "1. Print the first 10 natural numbers using for loop."
   ]
  },
  {
   "cell_type": "code",
   "execution_count": null,
   "metadata": {},
   "outputs": [],
   "source": [
    "print(\"1 to 10 natural numbers are \")\n",
    "for i in range(1,11):\n",
    "    print(i)"
   ]
  },
  {
   "attachments": {},
   "cell_type": "markdown",
   "metadata": {},
   "source": [
    " print a multiplication table of a given number (given number is 6)."
   ]
  },
  {
   "cell_type": "code",
   "execution_count": 3,
   "metadata": {},
   "outputs": [
    {
     "name": "stdout",
     "output_type": "stream",
     "text": [
      "6 x 1 = 6\n",
      "6 x 2 = 12\n",
      "6 x 3 = 18\n",
      "6 x 4 = 24\n",
      "6 x 5 = 30\n",
      "6 x 6 = 36\n",
      "6 x 7 = 42\n",
      "6 x 8 = 48\n",
      "6 x 9 = 54\n",
      "6 x 10 = 60\n"
     ]
    }
   ],
   "source": [
    "num = 6\n",
    "for i in range(1,11):\n",
    "    print(num,'x', i, '=', num*i)"
   ]
  },
  {
   "attachments": {},
   "cell_type": "markdown",
   "metadata": {},
   "source": [
    "take months like january, february, march, april and store this month into a list and use for loop for month and if,elif,else statements\n",
    "        (example:--if in a month of january we have 30days print the days of a avery months)"
   ]
  },
  {
   "cell_type": "code",
   "execution_count": null,
   "metadata": {},
   "outputs": [],
   "source": [
    "months = ['jan','feb','mar','apr','may','jun','jul','aug','sep','oct','nov','dec']\n",
    "for i in months:\n",
    "    "
   ]
  },
  {
   "cell_type": "code",
   "execution_count": 75,
   "metadata": {},
   "outputs": [
    {
     "name": "stdout",
     "output_type": "stream",
     "text": [
      "\n",
      "January\n",
      "February\n",
      "March\n",
      "April\n",
      "May\n",
      "June\n",
      "July\n",
      "August\n",
      "September\n",
      "October\n",
      "November\n",
      "December\n"
     ]
    },
    {
     "ename": "TypeError",
     "evalue": "list indices must be integers or slices, not str",
     "output_type": "error",
     "traceback": [
      "\u001b[1;31m---------------------------------------------------------------------------\u001b[0m",
      "\u001b[1;31mTypeError\u001b[0m                                 Traceback (most recent call last)",
      "Cell \u001b[1;32mIn[75], line 4\u001b[0m\n\u001b[0;32m      2\u001b[0m \u001b[39mfor\u001b[39;00m name \u001b[39min\u001b[39;00m calendar\u001b[39m.\u001b[39mmonth_name:\n\u001b[0;32m      3\u001b[0m     \u001b[39mprint\u001b[39m(name)\n\u001b[1;32m----> 4\u001b[0m months \u001b[39m=\u001b[39m \u001b[39mlist\u001b[39;49m[name]\n",
      "\u001b[1;31mTypeError\u001b[0m: list indices must be integers or slices, not str"
     ]
    }
   ],
   "source": [
    "import calendar\n",
    "for name in calendar.month_name:\n",
    "    print(name)\n",
    "months = list[name]"
   ]
  },
  {
   "cell_type": "code",
   "execution_count": null,
   "metadata": {},
   "outputs": [],
   "source": [
    "list=[\"january\", \"february\", \"march\", \"april\"]\n",
    "index=0\n",
    "for index in range(index,len(list)):\n",
    "    if index==0:\n",
    "        print(list[0],\"31days\")\n",
    "    elif index==1:\n",
    "        print(list[1],\"28 days\")\n",
    "    elif index==2:\n",
    "        print(list[2],\"31 days\")\n",
    "    else:\n",
    "        print(list[3],\"30 days\")\n",
    "    index=index+1"
   ]
  },
  {
   "cell_type": "code",
   "execution_count": 80,
   "metadata": {},
   "outputs": [
    {
     "name": "stdout",
     "output_type": "stream",
     "text": [
      "january have 30days\n",
      "february have 28days\n",
      "march have 31days\n",
      "april have 30days\n",
      "may have 31days\n",
      "june have 30days\n",
      "july have 31 days\n",
      "august have 31days\n",
      "september have 30days\n",
      "october have 31days\n",
      "november have 30 days\n",
      "december have 31days\n"
     ]
    }
   ],
   "source": [
    "list=[\"january\",\"february\",\"march\",\"april\",\"may\",\"june\",\"july\",\"august\",\"september\",\"october\",\"november\",\"december\"]\n",
    "for x in list:\n",
    "    if x==\"january\":print(\"january have 30days\")\n",
    "    elif x==\"february\":print(\"february have 28days\")\n",
    "    elif x==\"march\":print(\"march have 31days\")\n",
    "    elif x==\"april\":print(\"april have 30days\")\n",
    "    elif x==\"may\":print(\"may have 31days\")\n",
    "    elif x==\"june\":print(\"june have 30days\")\n",
    "    elif x==\"july\":print(\"july have 31 days\")\n",
    "    elif x==\"august\":print(\"august have 31days\")\n",
    "    elif x==\"september\":print(\"september have 30days\")\n",
    "    elif x==\"october\":print(\"october have 31days\")\n",
    "    elif x==\"november\":print(\"november have 30 days\")\n",
    "    else:print(\"december have 31days\")\n"
   ]
  },
  {
   "cell_type": "code",
   "execution_count": 1,
   "metadata": {},
   "outputs": [
    {
     "name": "stdout",
     "output_type": "stream",
     "text": [
      "january 31 days\n",
      "february 28 days\n",
      "march 31 days\n",
      "april 30 days\n",
      "may 31 days\n",
      "june 30 days\n",
      "july 31 days\n",
      "aguest 30 days\n",
      "september 30 days\n",
      "october 31 days\n",
      "november 30 days\n",
      "december 31 days\n"
     ]
    }
   ],
   "source": [
    "lst=['january','february','march','april','may','june','july','aguest','september','october','november','december']\n",
    "for i in lst:\n",
    "    if i=='february':print(i,'28 days')\n",
    "    elif i in ('january','march','may','july','augest','october','december') :print(i,'31 days')\n",
    "    else:print(i,'30 days')"
   ]
  },
  {
   "cell_type": "code",
   "execution_count": 15,
   "metadata": {},
   "outputs": [
    {
     "name": "stdout",
     "output_type": "stream",
     "text": [
      "5 4 3 2 1 \n",
      "4 3 2 1 \n",
      "3 2 1 \n",
      "2 1 \n",
      "1 \n"
     ]
    }
   ],
   "source": [
    "for r in range(5,0,-1):\n",
    "    for c in range(r,0,-1):\n",
    "        print(c,end=\" \")\n",
    "        \n",
    "    print()"
   ]
  },
  {
   "cell_type": "code",
   "execution_count": 16,
   "metadata": {},
   "outputs": [
    {
     "name": "stdout",
     "output_type": "stream",
     "text": [
      "-10 -9 -8 -7 -6 -5 -4 -3 -2 -1 "
     ]
    }
   ],
   "source": [
    "for i in range(-10,0):\n",
    "    print(i,end=\" \")"
   ]
  },
  {
   "cell_type": "code",
   "execution_count": 24,
   "metadata": {},
   "outputs": [
    {
     "name": "stdout",
     "output_type": "stream",
     "text": [
      "[<class 'int'>, <class 'str'>, <class 'float'>]\n"
     ]
    }
   ],
   "source": [
    "x=[]\n",
    "n=[20, \"python\", 33.98]\n",
    "for i in n:\n",
    "    a=type(i)\n",
    "    x.append(a) \n",
    "print(x)"
   ]
  },
  {
   "cell_type": "code",
   "execution_count": 30,
   "metadata": {},
   "outputs": [
    {
     "name": "stdout",
     "output_type": "stream",
     "text": [
      "* * * * \n",
      "* * * \n",
      "* * \n",
      "* \n",
      "\n"
     ]
    }
   ],
   "source": [
    "for i in range(1,5+1):\n",
    "    for c in range(1,(5-i)+1):\n",
    "        print(\"*\",end=\" \")\n",
    "    print()"
   ]
  },
  {
   "cell_type": "code",
   "execution_count": 25,
   "metadata": {},
   "outputs": [
    {
     "name": "stdout",
     "output_type": "stream",
     "text": [
      "[<class 'int'>, <class 'float'>, <class 'complex'>, <class 'bool'>, <class 'str'>, <class 'tuple'>, <class 'list'>, <class 'dict'>]\n"
     ]
    }
   ],
   "source": [
    "x=[]\n",
    "n = [1452, 11.23, 1+2j, True, 'w3resource', (0, -1), [5, 12], {\"class\":'V', \"section\":'A'}]\n",
    "for i in n:\n",
    "    a=type(i)\n",
    "    x.append(a) \n",
    "print(x)"
   ]
  },
  {
   "cell_type": "code",
   "execution_count": 27,
   "metadata": {},
   "outputs": [
    {
     "name": "stdout",
     "output_type": "stream",
     "text": [
      "0b1100\n"
     ]
    }
   ],
   "source": [
    "# decimal-->binary\n",
    "\n",
    "n=int(input(\"\"))\n",
    "binary=bin(n)\n",
    "print(binary)"
   ]
  },
  {
   "cell_type": "code",
   "execution_count": null,
   "metadata": {},
   "outputs": [],
   "source": []
  }
 ],
 "metadata": {
  "kernelspec": {
   "display_name": "Python 3",
   "language": "python",
   "name": "python3"
  },
  "language_info": {
   "codemirror_mode": {
    "name": "ipython",
    "version": 3
   },
   "file_extension": ".py",
   "mimetype": "text/x-python",
   "name": "python",
   "nbconvert_exporter": "python",
   "pygments_lexer": "ipython3",
   "version": "3.10.10"
  },
  "orig_nbformat": 4
 },
 "nbformat": 4,
 "nbformat_minor": 2
}
